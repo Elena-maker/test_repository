{
 "cells": [
  {
   "cell_type": "markdown",
   "metadata": {},
   "source": [
    "### Задание 1"
   ]
  },
  {
   "cell_type": "code",
   "execution_count": 7,
   "metadata": {},
   "outputs": [
    {
     "name": "stdout",
     "output_type": "stream",
     "text": [
      "Насколько проще было бы писать программы, если бы не заказчики\n",
      "640Кб должно хватить для любых задач. Билл Гейтс (по легенде)\n",
      "\n",
      "Результат:\n",
      "Фраза 1 длинне фразы 2\n"
     ]
    }
   ],
   "source": [
    "phrase_1 = str(input()) \n",
    "phrase_2 = str(input()) \n",
    "\n",
    "print()\n",
    "print('Результат:')\n",
    "if len(phrase_1) > len(phrase_2):\n",
    "    print('Фраза 1 длинне фразы 2')\n",
    "elif len(phrase_1) < len(phrase_2):\n",
    "    print('Фраза 2 длиннее фразы 1')\n",
    "else:\n",
    "    print('Фразы равной длины')"
   ]
  },
  {
   "cell_type": "markdown",
   "metadata": {},
   "source": [
    "### Задание 2"
   ]
  },
  {
   "cell_type": "code",
   "execution_count": 26,
   "metadata": {},
   "outputs": [
    {
     "name": "stdout",
     "output_type": "stream",
     "text": [
      "2020\n",
      "Результат:\n",
      "Високосный год\n"
     ]
    }
   ],
   "source": [
    "year = int(input())\n",
    "\n",
    "\n",
    "print('Результат:')\n",
    "if year % 400 == 0:\n",
    "    print('Високосный год')\n",
    "elif year % 100 == 0:\n",
    "    print('Обычный год')\n",
    "elif year % 4 == 0:\n",
    "    print('Високосный год')\n",
    "else:\n",
    "    print('Обычный год')"
   ]
  },
  {
   "cell_type": "markdown",
   "metadata": {},
   "source": [
    "### Задание 3"
   ]
  },
  {
   "cell_type": "code",
   "execution_count": 6,
   "metadata": {},
   "outputs": [
    {
     "name": "stdout",
     "output_type": "stream",
     "text": [
      "Введите день:\n",
      "1\n",
      "Введите месяц:\n",
      "февраль\n",
      "\n",
      "Результат:\n",
      "Ваш знак зодиака:\n",
      "Водолей\n"
     ]
    }
   ],
   "source": [
    "print('Введите день:')\n",
    "date = int(input())\n",
    "print('Введите месяц:')\n",
    "month = input()\n",
    "\n",
    "\n",
    "print()\n",
    "print('Результат:')\n",
    "print('Ваш знак зодиака:')\n",
    "\n",
    "if month == 'март' and 21 <= date <= 31 or month == 'апрель' and date <= 20:\n",
    "  print('Овен')\n",
    "elif month == 'апрель' and 21 <= date <= 30 or month == 'май' and date <= 20:\n",
    "  print('Телец')\n",
    "elif month == 'май' and 21 <= date <= 31 or month == 'июнь' and date <= 20:\n",
    "  print('Близнецы')\n",
    "elif month == 'июнь' and 21 <= date <= 30 or month == 'июль' and date <= 22:\n",
    "  print('Рак')\n",
    "elif month == 'июль' and 23 <= date <= 31 or month == 'август' and date <= 22:\n",
    "  print('Лев')\n",
    "elif month == 'август' and 23 <= date <= 31 or month == 'сентябрь' and date <= 22:\n",
    "  print('Дева')\n",
    "elif month == 'сентябрь' and 23 <= date <= 30 or month == 'октябрь' and date <= 22:\n",
    "  print('Весы')\n",
    "elif month == 'октябрь' and 23 <= date <= 31 or month == 'ноябрь' and date <= 22:\n",
    "  print('Скорпион')\n",
    "elif month == 'ноябрь' and 23 <= date <= 30 or month == 'декабрь' and date <= 21:\n",
    "  print('Стрелец')\n",
    "elif month == 'декабрь' and 22 <= date <= 31 or month == 'январь' and date <= 19:\n",
    "  print('Козерог')\n",
    "elif month == 'январь' and 20 <= date <= 31 or month == 'февраль' and date <= 19:\n",
    "  print('Водолей')\n",
    "else:\n",
    "  print('Рыбы')"
   ]
  },
  {
   "cell_type": "markdown",
   "metadata": {},
   "source": [
    "### Задание 4"
   ]
  },
  {
   "cell_type": "code",
   "execution_count": 31,
   "metadata": {},
   "outputs": [
    {
     "name": "stdout",
     "output_type": "stream",
     "text": [
      "10\n",
      "205\n",
      "5\n",
      "Упаковка для лыж\n"
     ]
    }
   ],
   "source": [
    "width = int(input())\n",
    "length = int(input())\n",
    "height = int(input())\n",
    "\n",
    "if width < 15 and length < 15 and height < 15:\n",
    "    print('Коробка №1')\n",
    "elif 15 < width < 50 or 15 < length < 50 or 15 < height < 50:\n",
    "    print('Коробка №2')\n",
    "elif length > 200:\n",
    "    print('Упаковка для лыж')\n",
    "else:\n",
    "    print('Стандартная коробка №3')"
   ]
  },
  {
   "cell_type": "code",
   "execution_count": null,
   "metadata": {},
   "outputs": [],
   "source": []
  }
 ],
 "metadata": {
  "kernelspec": {
   "display_name": "Python 3",
   "language": "python",
   "name": "python3"
  },
  "language_info": {
   "codemirror_mode": {
    "name": "ipython",
    "version": 3
   },
   "file_extension": ".py",
   "mimetype": "text/x-python",
   "name": "python",
   "nbconvert_exporter": "python",
   "pygments_lexer": "ipython3",
   "version": "3.8.5"
  }
 },
 "nbformat": 4,
 "nbformat_minor": 4
}
